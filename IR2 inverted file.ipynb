{
  "nbformat": 4,
  "nbformat_minor": 0,
  "metadata": {
    "colab": {
      "provenance": []
    },
    "kernelspec": {
      "name": "python3",
      "display_name": "Python 3"
    },
    "language_info": {
      "name": "python"
    }
  },
  "cells": [
    {
      "cell_type": "code",
      "execution_count": 19,
      "metadata": {
        "id": "6l4chIY24Pg0"
      },
      "outputs": [],
      "source": [
        "# Dictionary to store documents\n",
        "documents = {\n",
        "    1: \"the cat and the dog\",\n",
        "    2: \"the dog chases the cat\",\n",
        "    3: \"the mouse runs from the cat\",\n",
        "    4: \"dog and cat are pets\",\n",
        "    5: \"This is practical number 2\"\n",
        "}\n",
        "\n",
        "# Create inverted index (word -> list of document IDs)\n",
        "inverted_index = {}\n"
      ]
    },
    {
      "cell_type": "code",
      "source": [
        "# Build the inverted index\n",
        "for doc_id, text in documents.items():\n",
        "    # Convert text to lowercase and split into words\n",
        "    words = text.lower().split()\n",
        "\n",
        "    # Add each word to inverted index\n",
        "    for word in words:\n",
        "        if word not in inverted_index:\n",
        "            inverted_index[word] = []\n",
        "        if doc_id not in inverted_index[word]:\n",
        "            inverted_index[word].append(doc_id)\n"
      ],
      "metadata": {
        "id": "TkggrvLA4WRF"
      },
      "execution_count": 20,
      "outputs": []
    },
    {
      "cell_type": "code",
      "source": [
        "# Print the inverted index\n",
        "print(\"Inverted Index:\")\n",
        "print(\"--------------\")\n",
        "for word in sorted(inverted_index.keys()):\n",
        "    print(f\"{word}: {inverted_index[word]}\")"
      ],
      "metadata": {
        "colab": {
          "base_uri": "https://localhost:8080/"
        },
        "id": "4mpgNTrj4WS8",
        "outputId": "ec7a5ae9-6035-4840-a221-78c8d6249ea0"
      },
      "execution_count": 21,
      "outputs": [
        {
          "output_type": "stream",
          "name": "stdout",
          "text": [
            "Inverted Index:\n",
            "--------------\n",
            "2: [5]\n",
            "and: [1, 4]\n",
            "are: [4]\n",
            "cat: [1, 2, 3, 4]\n",
            "chases: [2]\n",
            "dog: [1, 2, 4]\n",
            "from: [3]\n",
            "is: [5]\n",
            "mouse: [3]\n",
            "number: [5]\n",
            "pets: [4]\n",
            "practical: [5]\n",
            "runs: [3]\n",
            "the: [1, 2, 3]\n",
            "this: [5]\n"
          ]
        }
      ]
    },
    {
      "cell_type": "code",
      "source": [
        "# Search function\n",
        "while True:\n",
        "    # Get search query from user\n",
        "    query = input(\"\\nEnter search words (or 'quit' to exit): \").lower()\n",
        "\n",
        "    if query == 'quit':\n",
        "        break\n",
        "\n",
        "    # Split query into words\n",
        "    search_words = query.split()\n",
        "\n",
        "    # Find documents containing all search words\n",
        "    if search_words:\n",
        "        # Get documents containing the first word\n",
        "        result = set(inverted_index.get(search_words[0], []))\n",
        "\n",
        "        # Intersect with documents containing other words\n",
        "        for word in search_words[1:]:\n",
        "            result = result.intersection(set(inverted_index.get(word, [])))\n",
        "\n",
        "        # Print results\n",
        "        print(\"\\nSearch Results:\")\n",
        "        print(\"--------------\")\n",
        "        if result:\n",
        "            for doc_id in result:\n",
        "                print(f\"Document {doc_id}: {documents[doc_id]}\")\n",
        "        else:\n",
        "            print(\"No matching documents found.\")"
      ],
      "metadata": {
        "colab": {
          "base_uri": "https://localhost:8080/"
        },
        "id": "DCWZvzkH4WU9",
        "outputId": "78c7dedb-3966-4f30-ae67-5a11985f17ac"
      },
      "execution_count": 18,
      "outputs": [
        {
          "name": "stdout",
          "output_type": "stream",
          "text": [
            "\n",
            "Enter search words (or 'quit' to exit): practical\n",
            "\n",
            "Search Results:\n",
            "--------------\n",
            "Document 5: This is practical number 2 .\n",
            "\n",
            "Enter search words (or 'quit' to exit): runs\n",
            "\n",
            "Search Results:\n",
            "--------------\n",
            "Document 3: the mouse runs from the cat\n",
            "\n",
            "Enter search words (or 'quit' to exit): quit\n"
          ]
        }
      ]
    },
    {
      "cell_type": "code",
      "source": [],
      "metadata": {
        "id": "Nht_qX2Y4WW4"
      },
      "execution_count": null,
      "outputs": []
    },
    {
      "cell_type": "code",
      "source": [],
      "metadata": {
        "id": "z04PmNti4WZE"
      },
      "execution_count": null,
      "outputs": []
    },
    {
      "cell_type": "code",
      "source": [],
      "metadata": {
        "id": "ld7vanFZ4Wcf"
      },
      "execution_count": null,
      "outputs": []
    }
  ]
}
